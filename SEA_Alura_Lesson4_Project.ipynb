{
  "nbformat": 4,
  "nbformat_minor": 0,
  "metadata": {
    "colab": {
      "provenance": [],
      "authorship_tag": "ABX9TyOV+K71b4vyNYMIGMhMwiHM",
      "include_colab_link": true
    },
    "kernelspec": {
      "name": "python3",
      "display_name": "Python 3"
    },
    "language_info": {
      "name": "python"
    }
  },
  "cells": [
    {
      "cell_type": "markdown",
      "metadata": {
        "id": "view-in-github",
        "colab_type": "text"
      },
      "source": [
        "<a href=\"https://colab.research.google.com/github/SEAFromJahu/SEA_Alura_Lesson4_Project/blob/main/SEA_Alura_Lesson4_Project.ipynb\" target=\"_parent\"><img src=\"https://colab.research.google.com/assets/colab-badge.svg\" alt=\"Open In Colab\"/></a>"
      ]
    },
    {
      "cell_type": "markdown",
      "source": [
        "INSTALANDO O SDK DO GOOGLE"
      ],
      "metadata": {
        "id": "u0-eUzCgIvca"
      }
    },
    {
      "cell_type": "code",
      "execution_count": null,
      "metadata": {
        "id": "Hu5YlFMWcUR1"
      },
      "outputs": [],
      "source": [
        "pip install -q -U google-generativeai"
      ]
    },
    {
      "cell_type": "markdown",
      "source": [
        "IMPORTANDO GOOGLE GENERATIVEAI...CONFIGURANDO API_KEY PARA USO...CRIANDO UM CLIENTE DA GENERATIVEAI"
      ],
      "metadata": {
        "id": "UxvFUAAxIqu_"
      }
    },
    {
      "cell_type": "code",
      "source": [
        "import google.generativeai as genai\n",
        "\n",
        "from google.colab import userdata\n",
        "GOOGLE_API_KEY =userdata.get('GOOGLE_API_KEY')\n",
        "genai.configure(api_key=GOOGLE_API_KEY)"
      ],
      "metadata": {
        "id": "uXnY11VtI4s-"
      },
      "execution_count": null,
      "outputs": []
    },
    {
      "cell_type": "markdown",
      "source": [
        "CRIANDO UM CLIENTE DO GEMINI PARA UTILIZAR NO PROJETO"
      ],
      "metadata": {
        "id": "BoS7R0dpI7lA"
      }
    },
    {
      "cell_type": "code",
      "source": [
        "genai.configure(api_key=GOOGLE_API_KEY)"
      ],
      "metadata": {
        "id": "1IKZM7gIJAQ7"
      },
      "execution_count": null,
      "outputs": []
    },
    {
      "cell_type": "markdown",
      "source": [
        "TIPOS DE SAFETY_SETTINGS: \"BLOCK_NONE\", \"BLOCK_FEW\",\"BLOCK_SOME\", \"BLOCK_MOST\" O DEFAULT É BLOCK_SOME."
      ],
      "metadata": {
        "id": "h5Ukz9egJE7c"
      }
    },
    {
      "cell_type": "code",
      "source": [
        "generation_config = {\n",
        "    \"candidate_count\": 1,\n",
        "    \"temperature\": 0.25,\n",
        "}\n",
        "\n",
        "safety_settings = {\n",
        "    \"HARASSMENT\": \"BLOCK_NONE\",\n",
        "    \"HATE\": \"BLOCK_NONE\",\n",
        "    \"SEXUAL\": \"BLOCK_NONE\",\n",
        "    \"DANGEROUS\": \"BLOCK_NONE\",\n",
        "}"
      ],
      "metadata": {
        "id": "As_fshT9JHyO"
      },
      "execution_count": null,
      "outputs": []
    },
    {
      "cell_type": "markdown",
      "source": [
        "INICIALIZAR O MODELO GENERATIVO"
      ],
      "metadata": {
        "id": "2ZpnxZbIJOLp"
      }
    },
    {
      "cell_type": "code",
      "source": [
        "model = genai.GenerativeModel('gemini-1.0-pro',\n",
        "                              generation_config=generation_config,\n",
        "                              safety_settings=safety_settings)"
      ],
      "metadata": {
        "id": "uAxHhIxeJRDs"
      },
      "execution_count": null,
      "outputs": []
    },
    {
      "cell_type": "markdown",
      "source": [
        "A API Gemini POSSIBILITA CRIAR UM CHATBOT, INICIANDO O MESMO..."
      ],
      "metadata": {
        "id": "pB4KWDnWJR27"
      }
    },
    {
      "cell_type": "code",
      "source": [
        "chat = model.start_chat(history=[])"
      ],
      "metadata": {
        "id": "pi0H41c-JXw3"
      },
      "execution_count": null,
      "outputs": []
    },
    {
      "cell_type": "markdown",
      "source": [
        "SOLICITA QUE O USUÁRIO DIGITE PERGUNTAS perguntas e as responde até que o usuário digite \"fim\""
      ],
      "metadata": {
        "id": "eqlAQPWNJau2"
      }
    },
    {
      "cell_type": "code",
      "source": [
        "prompt = input(\"Esperando prompt: \")\n",
        "while prompt != \"fim\":\n",
        "  response = chat.send_message(prompt)\n",
        "  print(\"Resposta: \", response.text, \"\\n\")\n",
        "  prompt = input(\"Esperando prompt: \")"
      ],
      "metadata": {
        "id": "yUxi2iyKJewh",
        "outputId": "e4d9c72d-13c0-459d-fb2e-5aa218a5131d",
        "colab": {
          "base_uri": "https://localhost:8080/",
          "height": 713
        }
      },
      "execution_count": null,
      "outputs": [
        {
          "output_type": "stream",
          "name": "stdout",
          "text": [
            "Esperando prompt: https://github.com/SEAFromJahu/SEA_Alura_Lesson4_Project/blob/main/README.md\n",
            "Resposta:  O README.md fornecido é para um projeto da Alura Lesson 4, que envolve análise de áudio e geração de espectrogramas.\n",
            "\n",
            "**Aqui está um resumo do README.md:**\n",
            "\n",
            "**Introdução:**\n",
            "\n",
            "O README.md começa com uma breve introdução ao projeto, explicando seu propósito e objetivos.\n",
            "\n",
            "**Requisitos:**\n",
            "\n",
            "A seção de requisitos lista as bibliotecas Python necessárias para executar o projeto, incluindo `librosa` e `matplotlib`.\n",
            "\n",
            "**Instruções:**\n",
            "\n",
            "As instruções fornecem etapas passo a passo sobre como executar o projeto:\n",
            "\n",
            "1. Clone o repositório do GitHub.\n",
            "2. Instale as bibliotecas necessárias.\n",
            "3. Execute o notebook do Google Colab.\n",
            "\n",
            "**Como contribuir:**\n",
            "\n",
            "A seção Como contribuir fornece diretrizes para contribuir com o projeto.\n",
            "\n",
            "**Licença:**\n",
            "\n",
            "O projeto é licenciado sob a Licença MIT.\n",
            "\n",
            "**Conclusão:**\n",
            "\n",
            "O README.md fornece informações claras e concisas sobre o projeto, incluindo seus requisitos, instruções e licença. Ele ajuda os usuários a entender o propósito do projeto e como executá-lo.\n",
            "\n",
            "**Observações:**\n",
            "\n",
            "* O README.md refere-se a um notebook do Google Colab para análise de áudio. O link para o notebook é fornecido no arquivo `README.md`.\n",
            "* O projeto é projetado para ser executado em um ambiente Python.\n",
            "* Os usuários devem ter conhecimento básico de Python e análise de áudio para executar o projeto com sucesso. \n",
            "\n"
          ]
        }
      ]
    }
  ]
}