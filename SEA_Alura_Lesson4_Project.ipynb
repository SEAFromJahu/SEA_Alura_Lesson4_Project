{
  "nbformat": 4,
  "nbformat_minor": 0,
  "metadata": {
    "colab": {
      "provenance": [],
      "authorship_tag": "ABX9TyNR9vmi+97i0OIVjmCmt21V",
      "include_colab_link": true
    },
    "kernelspec": {
      "name": "python3",
      "display_name": "Python 3"
    },
    "language_info": {
      "name": "python"
    }
  },
  "cells": [
    {
      "cell_type": "markdown",
      "metadata": {
        "id": "view-in-github",
        "colab_type": "text"
      },
      "source": [
        "<a href=\"https://colab.research.google.com/github/SEAFromJahu/SEA_Alura_Lesson4_Project/blob/main/SEA_Alura_Lesson4_Project.ipynb\" target=\"_parent\"><img src=\"https://colab.research.google.com/assets/colab-badge.svg\" alt=\"Open In Colab\"/></a>"
      ]
    },
    {
      "cell_type": "markdown",
      "source": [
        "INSTALANDO O SDK DO GOOGLE"
      ],
      "metadata": {
        "id": "u0-eUzCgIvca"
      }
    },
    {
      "cell_type": "code",
      "execution_count": 1,
      "metadata": {
        "id": "Hu5YlFMWcUR1"
      },
      "outputs": [],
      "source": [
        "pip install -q -U google-generativeai"
      ]
    },
    {
      "cell_type": "markdown",
      "source": [
        "IMPORTANDO GOOGLE GENERATIVEAI...CONFIGURANDO API_KEY PARA USO...CRIANDO UM CLIENTE DA GENERATIVEAI"
      ],
      "metadata": {
        "id": "UxvFUAAxIqu_"
      }
    },
    {
      "cell_type": "code",
      "source": [
        "import google.generativeai as genai\n",
        "\n",
        "from google.colab import userdata\n",
        "GOOGLE_API_KEY =userdata.get('GOOGLE_API_KEY')\n",
        "genai.configure(api_key=GOOGLE_API_KEY)"
      ],
      "metadata": {
        "id": "uXnY11VtI4s-"
      },
      "execution_count": 2,
      "outputs": []
    },
    {
      "cell_type": "markdown",
      "source": [
        "CRIANDO UM CLIENTE DO GEMINI PARA UTILIZAR NO PROJETO"
      ],
      "metadata": {
        "id": "BoS7R0dpI7lA"
      }
    },
    {
      "cell_type": "code",
      "source": [
        "genai.configure(api_key=GOOGLE_API_KEY)"
      ],
      "metadata": {
        "id": "1IKZM7gIJAQ7"
      },
      "execution_count": 3,
      "outputs": []
    },
    {
      "cell_type": "markdown",
      "source": [
        "TIPOS DE SAFETY_SETTINGS: \"BLOCK_NONE\", \"BLOCK_FEW\",\"BLOCK_SOME\", \"BLOCK_MOST\" O DEFAULT É BLOCK_SOME."
      ],
      "metadata": {
        "id": "h5Ukz9egJE7c"
      }
    },
    {
      "cell_type": "code",
      "source": [
        "generation_config = {\n",
        "    \"candidate_count\": 1,\n",
        "    \"temperature\": 0,\n",
        "}\n",
        "\n",
        "safety_settings = {\n",
        "    \"HARASSMENT\": \"BLOCK_NONE\",\n",
        "    \"HATE\": \"BLOCK_NONE\",\n",
        "    \"SEXUAL\": \"BLOCK_NONE\",\n",
        "    \"DANGEROUS\": \"BLOCK_NONE\",\n",
        "}"
      ],
      "metadata": {
        "id": "As_fshT9JHyO"
      },
      "execution_count": 4,
      "outputs": []
    },
    {
      "cell_type": "markdown",
      "source": [
        "INICIALIZAR O MODELO GENERATIVO"
      ],
      "metadata": {
        "id": "2ZpnxZbIJOLp"
      }
    },
    {
      "cell_type": "code",
      "source": [
        "model = genai.GenerativeModel('gemini-1.5-pro-latest',\n",
        "                              generation_config=generation_config,\n",
        "                              safety_settings=safety_settings)"
      ],
      "metadata": {
        "id": "uAxHhIxeJRDs"
      },
      "execution_count": 5,
      "outputs": []
    },
    {
      "cell_type": "markdown",
      "source": [
        "A API Gemini POSSIBILITA CRIAR UM CHATBOT, INICIANDO O MESMO..."
      ],
      "metadata": {
        "id": "pB4KWDnWJR27"
      }
    },
    {
      "cell_type": "code",
      "source": [
        "chat = model.start_chat(history=[])"
      ],
      "metadata": {
        "id": "pi0H41c-JXw3"
      },
      "execution_count": 6,
      "outputs": []
    },
    {
      "cell_type": "markdown",
      "source": [
        "SOLICITA QUE O USUÁRIO DIGITE PERGUNTAS perguntas e as responde até que o usuário digite \"fim\""
      ],
      "metadata": {
        "id": "eqlAQPWNJau2"
      }
    },
    {
      "cell_type": "code",
      "source": [
        "prompt = input(\"Esperando prompt: \")\n",
        "while prompt != \"fim\":\n",
        "  response = chat.send_message(prompt)\n",
        "  print(\"Resposta: \", response.text, \"\\n\")\n",
        "  prompt = input(\"Esperando prompt: \")"
      ],
      "metadata": {
        "id": "yUxi2iyKJewh",
        "colab": {
          "base_uri": "https://localhost:8080/",
          "height": 473
        },
        "outputId": "7a8f391e-0a53-47fe-efdb-322a6a726052"
      },
      "execution_count": null,
      "outputs": [
        {
          "output_type": "stream",
          "name": "stdout",
          "text": [
            "Esperando prompt: Sabendo-se que: A faixa de frequência audível para humanos é normalmente entre 20 Hz e 20.000 Hz. Baixas frequências (20 Hz - 200 Hz): Essas frequências são sentidas mais como vibrações do que como sons e são produzidas por objetos grandes como terremotos, trovões e graves profundos. Médias frequências (200 Hz - 2.000 Hz): Esta faixa contém a maioria dos sons fundamentais da fala humana e de muitos instrumentos musicais. Altas frequências (2.000 Hz - 20.000 Hz): Sons agudos, como assobios, canto de pássaros e harmônicos de instrumentos musicais, caem nesta faixa. Embora a faixa de audição humana seja frequentemente descrita como 20 Hz a 20.000 Hz, não é tão simples quanto contar os números entre esses dois limites. Isso ocorre porque a frequência é medida em uma escala logarítmica, não linear. Calculando o Número de Frequências Audíveis Embora seja tecnicamente impossível contar o número exato de frequências audíveis entre 20 Hz e 20.000 Hz devido à natureza contínua da escala de frequência, podemos aproximar um número usando o conceito de discriminação de frequência. A discriminação de frequência refere-se à nossa capacidade de distinguir entre duas frequências ligeiramente diferentes. Os humanos geralmente conseguem discriminar entre frequências que diferem em cerca de 0,3% em uma faixa de frequência moderada. Com essa informação, podemos fazer uma estimativa aproximada: Dividimos a faixa de frequência em partes menores: Dividiríamos a faixa de 20 Hz a 20.000 Hz em pequenos intervalos que diferem em 0,3%. Número de intervalos = (log2(f2) - log2(f1)) / log2(1 + d) Onde:f1 é a frequência mais baixa (20 Hz)f2 é a frequência mais alta (20.000 Hz)d é a diferença justa perceptível (0,003) Calculamos o número de intervalos -> Número de intervalos = (log2(20.000) - log2(20)) / log2(1,003) ≈ 3283. Combinações de sequencias de frequências sonoras perceptíveis são finitas. Com 3283 intervalos obtemos 2^3283 combinações possíveis de frequência sonoras perceptíveis com tons puros. Na realidade, a maioria dos sons que ouvimos (música, fala, natureza) são compostos por múltiplas frequências simultâneas, criando timbres e texturas complexas. A intensidade (volume) e a duração de cada frequência influenciam a percepção. Um mesmo tom em diferentes volumes ou durações soa distinto. A presença de certas frequências pode mascarar outras, tornando-as inaudíveis. A música se baseia em relações harmônicas entre frequências, e não em combinações aleatórias. Nosso cérebro não processa cada frequência individualmente. A percepção se dá de forma integrada, com foco em padrões e mudanças no espectro sonoro. Podemos estimar o número de intervalos de frequência discrimináveis. Calcular o número total de combinações \"perceptíveis\" é um desafio complexo. O cérebro humano não analisa cada frequência isoladamente. A percepção é holística, focando em padrões e mudanças no espectro sonoro. O número de combinações de frequências puras 2^3283 é um número astronômico, mas finito. A IA esta ai para mensurar grandezas que são impossíveis aos humanos. Considerando todos os inputs anteriores acima, qual é o solução possível para se obter a resposta a questão?\n",
            "Resposta:  A questão de quantas combinações de frequências sonoras perceptíveis existem é realmente complexa e não tem uma resposta única e definitiva. O cálculo de 2^3283, apesar de impressionante, é apenas uma aproximação inicial e limitada por várias razões:\n",
            "\n",
            "1. **Natureza complexa do som:** A música, fala e sons naturais não são compostos por tons puros, mas sim por uma infinidade de frequências simultâneas, harmônicos e variações de timbre.\n",
            "\n",
            "2. **Mascaramento e contexto:** A percepção de uma frequência é influenciada pela presença de outras. Sons simultâneos podem se mascarar, tornando a contagem de combinações \"perceptíveis\" imprecisa.\n",
            "\n",
            "3. **Processamento holístico:** O cérebro não analisa cada frequência individualmente. A percepção sonora é holística, focando em padrões, mudanças e relações entre frequências.\n",
            "\n",
            "4. **Fatores subjetivos:** A sensibilidade auditiva varia entre indivíduos. Idade, saúde auditiva e treino musical influenciam a capacidade de discriminar frequências.\n",
            "\n",
            "Dito isso, a IA pode ser uma ferramenta poderosa para explorar essa questão de forma mais completa, utilizando algumas abordagens:\n",
            "\n",
            "**1. Modelagem da percepção auditiva:** Redes neurais podem ser treinadas para simular o sistema auditivo humano, aprendendo a identificar padrões e relações entre frequências que são relevantes para a percepção.\n",
            "\n",
            "**2. Análise de grandes conjuntos de dados:** A IA pode analisar grandes bases de dados de música, fala e sons naturais, identificando padrões estatísticos e relações entre frequências que ocorrem com mais frequência.\n",
            "\n",
            "**3. Experimentos controlados:** A IA pode auxiliar na criação e execução de experimentos controlados, testando a capacidade de discriminação de frequências em diferentes contextos e com diferentes tipos de sons.\n",
            "\n",
            "**4. Modelagem matemática:** A IA pode ser utilizada para desenvolver modelos matemáticos mais sofisticados que levem em consideração a natureza complexa do som, mascaramento, processamento holístico e outros fatores relevantes.\n",
            "\n",
            "É importante ressaltar que, mesmo com a ajuda da IA, a resposta para essa questão será sempre uma aproximação. A percepção sonora é um processo complexo e multifacetado, influenciado por fatores subjetivos e contextuais. No entanto, a IA pode nos ajudar a entender melhor os limites da percepção auditiva e a explorar a riqueza do mundo sonoro de maneiras inovadoras. \n",
            " \n",
            "\n"
          ]
        }
      ]
    },
    {
      "cell_type": "markdown",
      "source": [
        "Montagem do prompt que será utilizado acima como questão a ser respondida.\n",
        "\n",
        "Sabendo-se que:\n",
        "A faixa de frequência audível para humanos é normalmente entre 20 Hz e 20.000 Hz.\n",
        "Baixas frequências (20 Hz - 200 Hz): Essas frequências são sentidas mais como vibrações do que como sons e são produzidas por objetos grandes como terremotos, trovões e graves profundos.\n",
        "Médias frequências (200 Hz - 2.000 Hz): Esta faixa contém a maioria dos sons fundamentais da fala humana e de muitos instrumentos musicais.\n",
        "Altas frequências (2.000 Hz - 20.000 Hz): Sons agudos, como assobios, canto de pássaros e harmônicos de instrumentos musicais, caem nesta faixa.\n",
        "Embora a faixa de audição humana seja frequentemente descrita como 20 Hz a 20.000 Hz, não é tão simples quanto contar os números entre esses dois limites. Isso ocorre porque a frequência é medida em uma escala logarítmica, não linear.\n",
        "Calculando o Número de Frequências Audíveis Embora seja tecnicamente impossível contar o número exato de frequências audíveis entre 20 Hz e 20.000 Hz devido à natureza contínua da escala de frequência, podemos aproximar um número usando o conceito de discriminação de frequência.\n",
        "A discriminação de frequência refere-se à nossa capacidade de distinguir entre duas frequências ligeiramente diferentes. Os humanos geralmente conseguem discriminar entre frequências que diferem em cerca de 0,3% em uma faixa de frequência moderada.\n",
        "Com essa informação, podemos fazer uma estimativa aproximada: Dividimos a faixa de frequência em partes menores: Dividiríamos a faixa de 20 Hz a 20.000 Hz em pequenos intervalos que diferem em 0,3%.\n",
        "Número de intervalos = (log2(f2) - log2(f1)) / log2(1 + d) Onde:f1 é a frequência mais baixa (20 Hz)f2 é a frequência mais alta (20.000 Hz)d é a diferença justa perceptível (0,003)\n",
        "Calculamos o número de intervalos -> Número de intervalos = (log2(20.000) - log2(20)) / log2(1,003) ≈ 3283.\n",
        "Combinações de sequencias de frequências sonoras perceptíveis são finitas.\n",
        "Com 3283 intervalos obtemos 2^3283 combinações possíveis de frequência sonoras perceptíveis com tons puros.\n",
        "Na realidade, a maioria dos sons que ouvimos (música, fala, natureza) são compostos por múltiplas frequências simultâneas, criando timbres e texturas complexas.\n",
        "A intensidade (volume) e a duração de cada frequência influenciam a percepção. Um mesmo tom em diferentes volumes ou durações soa distinto.\n",
        "A presença de certas frequências pode mascarar outras, tornando-as inaudíveis.\n",
        "A música se baseia em relações harmônicas entre frequências, e não em combinações aleatórias.\n",
        "Nosso cérebro não processa cada frequência individualmente. A percepção se dá de forma integrada, com foco em padrões e mudanças no espectro sonoro.\n",
        "Podemos estimar o número de intervalos de frequência discrimináveis. Calcular o número total de combinações \"perceptíveis\" é um desafio complexo.\n",
        "O cérebro humano não analisa cada frequência isoladamente. A percepção é holística, focando em padrões e mudanças no espectro sonoro.\n",
        "O número de combinações de frequências puras  2^3283 é um número astronômico, mas finito.\n",
        "A IA esta ai para mensurar grandezas que são impossíveis aos humanos.\n",
        "Considerando todos os inputs anteriores acima, qual é o solução possível para se obter a resposta a questão?"
      ],
      "metadata": {
        "id": "i2hSXJT0jijm"
      }
    }
  ]
}